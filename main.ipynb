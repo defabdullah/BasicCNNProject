{
  "cells": [
    {
      "cell_type": "code",
      "execution_count": null,
      "metadata": {
        "id": "bxPS3j60lhxb"
      },
      "outputs": [],
      "source": [
        "from utils import *\n",
        "from DataParser import DataParser\n",
        "from model import MyModel\n",
        "from predict import predict_cat_dog\n",
        "from keras.preprocessing.image import ImageDataGenerator\n",
        "from keras import optimizers\n",
        "from sklearn.metrics import plot_confusion_matrix\n",
        "import tensorflow as tf\n",
        "import matplotlib.pyplot as plt\n",
        "import os\n",
        "import shutil\n",
        "import glob\n",
        "import cv2\n",
        "import numpy as np\n",
        "import zipfile\n",
        "import json"
      ]
    },
    {
      "cell_type": "code",
      "execution_count": null,
      "metadata": {
        "colab": {
          "base_uri": "https://localhost:8080/"
        },
        "id": "JNmmwrbFu1PV",
        "outputId": "94987856-83c9-46f8-8fdf-cae89c4e5b20"
      },
      "outputs": [],
      "source": [
        "#install data and extract\n",
        "\n",
        "#!pip install -U -q kaggle\n",
        "!mkdir -p ~/.kaggle\n",
        "!echo '{\"username\":\"abdullah0susuz\",\"key\":\"414ba30eea54d34edb7294627c00488c\"}' > ~/.kaggle/kaggle.json\n",
        "!chmod 600 ~/.kaggle/kaggle.json\n",
        "!kaggle competitions download -c dogs-vs-cats\n",
        "files = glob.glob('*.zip')\n",
        "for file in files:\n",
        "  print(file)\n",
        "  with zipfile.ZipFile(file, 'r') as zip_ref:\n",
        "          zip_ref.extractall('PetImages')\n",
        "!unzip /content/PetImages/train.zip\n",
        "!unzip /content/PetImages/test1.zip"
      ]
    },
    {
      "cell_type": "code",
      "execution_count": null,
      "metadata": {
        "id": "M44yLsrllhxd"
      },
      "outputs": [],
      "source": [
        "#parameteres for model\n",
        "\n",
        "train_dir = \"train\"\n",
        "\n",
        "validation = 0.3\n",
        "batch_size = 16\n",
        "image_size = 224\n",
        "epochs = 20\n",
        "rate = 1\n",
        "\n",
        "dataParser = DataParser(train_dir, validation, batch_size, image_size,rate)\n",
        "callback = tf.keras.callbacks.EarlyStopping(monitor='loss', patience=3)\n",
        "my_model = MyModel((image_size,image_size,3))\n",
        "model = my_model.build_model(vgg_model=True)\n",
        "print(model.summary())"
      ]
    },
    {
      "cell_type": "code",
      "execution_count": null,
      "metadata": {
        "colab": {
          "base_uri": "https://localhost:8080/",
          "height": 417
        },
        "id": "p-FpOpwAlhxe",
        "outputId": "7ac6a012-fb54-4842-e627-654b1a3a2d5a"
      },
      "outputs": [],
      "source": [
        "#train model\n",
        "history = model.fit(generate_batches(dataParser),\n",
        "          steps_per_epoch=dataParser.steps_per_epoch,\n",
        "          epochs=epochs,\n",
        "          validation_data = generate_batches(dataParser, train=False),\n",
        "          validation_steps=dataParser.validation_steps,\n",
        "          callbacks=[callback])\n",
        "\n",
        "with open('file.json', 'w') as f:\n",
        "    json.dump(history.history, f)\n",
        "\n",
        "model.save(\"save-16.h5\")"
      ]
    },
    {
      "cell_type": "code",
      "execution_count": null,
      "metadata": {
        "colab": {
          "base_uri": "https://localhost:8080/",
          "height": 279
        },
        "id": "jTzzdz-_-xLP",
        "outputId": "a2df7c93-4870-464f-b213-9b6ae8d434fd"
      },
      "outputs": [],
      "source": [
        "#plot loss graph\n",
        "\n",
        "history_dict = json.load(open(\"file.json\", 'r'))\n",
        "plt.plot(history_dict['val_loss'], label = \"val_loss\")\n",
        "plt.plot(history_dict['loss'], label = \"loss\")\n",
        "plt.ylabel('loss')\n",
        "plt.xlabel('epoch')\n",
        "plt.legend()\n",
        "plt.show()"
      ]
    },
    {
      "cell_type": "code",
      "execution_count": null,
      "metadata": {
        "colab": {
          "base_uri": "https://localhost:8080/",
          "height": 286
        },
        "id": "XSYn_Q8uGGV5",
        "outputId": "06279055-2f84-4c3c-bca8-e2839b70bed2"
      },
      "outputs": [],
      "source": [
        "#predict all validations\n",
        "data,label=dataParser.get_batch(dataParser.validation_ids)\n",
        "y_pred = model.predict(data)>0.5"
      ]
    },
    {
      "cell_type": "code",
      "execution_count": null,
      "metadata": {},
      "outputs": [],
      "source": [
        "#plot and visualize confusion matrix\n",
        "IC = type('IdentityClassifier', (), {\"predict\": lambda i : i, \"_estimator_type\": \"classifier\"})\n",
        "plot_confusion_matrix(IC, y_pred, label, normalize='true', values_format='.2%')"
      ]
    },
    {
      "cell_type": "code",
      "execution_count": null,
      "metadata": {},
      "outputs": [],
      "source": [
        "#predict photo in given index\n",
        "predict_cat_dog(model,number=278,image_size=image_size)"
      ]
    }
  ],
  "metadata": {
    "accelerator": "GPU",
    "colab": {
      "collapsed_sections": [],
      "provenance": []
    },
    "coursera": {
      "course_slug": "convolutional-neural-networks",
      "graded_item_id": "qO8ng",
      "launcher_item_id": "7XDi8"
    },
    "gpuClass": "standard",
    "kernelspec": {
      "display_name": "Python 3.10.8 64-bit (microsoft store)",
      "language": "python",
      "name": "python3"
    },
    "language_info": {
      "codemirror_mode": {
        "name": "ipython",
        "version": 3
      },
      "file_extension": ".py",
      "mimetype": "text/x-python",
      "name": "python",
      "nbconvert_exporter": "python",
      "pygments_lexer": "ipython3",
      "version": "3.10.8"
    },
    "vscode": {
      "interpreter": {
        "hash": "0d590faa99f0a601ff07583290f182320d78f347d0227f7df19b138933d854ac"
      }
    }
  },
  "nbformat": 4,
  "nbformat_minor": 0
}
